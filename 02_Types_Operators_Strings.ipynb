{
 "cells": [
  {
   "cell_type": "code",
   "execution_count": 1,
   "metadata": {},
   "outputs": [
    {
     "data": {
      "text/plain": [
       "(int, 140492272757072)"
      ]
     },
     "execution_count": 1,
     "metadata": {},
     "output_type": "execute_result"
    }
   ],
   "source": [
    "i = 2\n",
    "type(i), id(i)"
   ]
  },
  {
   "cell_type": "code",
   "execution_count": 2,
   "metadata": {},
   "outputs": [
    {
     "data": {
      "text/plain": [
       "(str, 140492006850288)"
      ]
     },
     "execution_count": 2,
     "metadata": {},
     "output_type": "execute_result"
    }
   ],
   "source": [
    "i = \"foo\"\n",
    "type(i), id(i)"
   ]
  },
  {
   "cell_type": "code",
   "execution_count": 3,
   "metadata": {},
   "outputs": [
    {
     "ename": "TypeError",
     "evalue": "can only concatenate str (not \"int\") to str",
     "output_type": "error",
     "traceback": [
      "\u001b[0;31m---------------------------------------------------------------------------\u001b[0m",
      "\u001b[0;31mTypeError\u001b[0m                                 Traceback (most recent call last)",
      "Cell \u001b[0;32mIn[3], line 1\u001b[0m\n\u001b[0;32m----> 1\u001b[0m \u001b[39mprint\u001b[39m(\u001b[39m\"\u001b[39;49m\u001b[39mI am \u001b[39;49m\u001b[39m\"\u001b[39;49m \u001b[39m+\u001b[39;49m \u001b[39m20\u001b[39;49m \u001b[39m+\u001b[39m \u001b[39m\"\u001b[39m\u001b[39m years old\u001b[39m\u001b[39m\"\u001b[39m)\n",
      "\u001b[0;31mTypeError\u001b[0m: can only concatenate str (not \"int\") to str"
     ]
    }
   ],
   "source": [
    "print(\"I am \" + 20 + \" years old\")"
   ]
  },
  {
   "cell_type": "code",
   "execution_count": 4,
   "metadata": {},
   "outputs": [
    {
     "name": "stdout",
     "output_type": "stream",
     "text": [
      "I am 20 years old\n"
     ]
    }
   ],
   "source": [
    "print(\"I am \" + str(20) + \" years old\")"
   ]
  },
  {
   "cell_type": "code",
   "execution_count": 5,
   "metadata": {},
   "outputs": [
    {
     "data": {
      "application/javascript": "\nelement.text(\"I am \" + 20 + \" years old\")\n",
      "text/plain": [
       "<IPython.core.display.Javascript object>"
      ]
     },
     "metadata": {},
     "output_type": "display_data"
    }
   ],
   "source": [
    "%%javascript\n",
    "\n",
    "element.text(\"I am \" + 20 + \" years old\")"
   ]
  },
  {
   "cell_type": "code",
   "execution_count": 6,
   "metadata": {},
   "outputs": [
    {
     "data": {
      "application/javascript": "\nelement.text(\"1\" + 1)\n",
      "text/plain": [
       "<IPython.core.display.Javascript object>"
      ]
     },
     "metadata": {},
     "output_type": "display_data"
    }
   ],
   "source": [
    "%%javascript\n",
    "\n",
    "element.text(\"1\" + 1)"
   ]
  },
  {
   "cell_type": "code",
   "execution_count": 7,
   "metadata": {},
   "outputs": [
    {
     "data": {
      "application/javascript": "\nelement.text(1 + \"1\")\n",
      "text/plain": [
       "<IPython.core.display.Javascript object>"
      ]
     },
     "metadata": {},
     "output_type": "display_data"
    }
   ],
   "source": [
    "%%javascript\n",
    "\n",
    "element.text(1 + \"1\")"
   ]
  },
  {
   "cell_type": "code",
   "execution_count": 8,
   "metadata": {},
   "outputs": [
    {
     "name": "stdout",
     "output_type": "stream",
     "text": [
      "<class 'int'> <class 'float'>\n",
      "<class 'float'>\n",
      "3.2\n"
     ]
    }
   ],
   "source": [
    "i = 2\n",
    "f = 1.2\n",
    "s = i + f\n",
    "print(type(i), type(f))\n",
    "print(type(i + f))\n",
    "print(s)"
   ]
  },
  {
   "cell_type": "code",
   "execution_count": 9,
   "metadata": {},
   "outputs": [
    {
     "data": {
      "text/plain": [
       "True"
      ]
     },
     "execution_count": 9,
     "metadata": {},
     "output_type": "execute_result"
    }
   ],
   "source": [
    "x = 2\n",
    "\n",
    "x < 2 or x >= 2"
   ]
  },
  {
   "cell_type": "code",
   "execution_count": 10,
   "metadata": {},
   "outputs": [
    {
     "data": {
      "text/plain": [
       "True"
      ]
     },
     "execution_count": 10,
     "metadata": {},
     "output_type": "execute_result"
    }
   ],
   "source": [
    "x > 0 and x < 10"
   ]
  },
  {
   "cell_type": "code",
   "execution_count": 11,
   "metadata": {},
   "outputs": [
    {
     "data": {
      "text/plain": [
       "True"
      ]
     },
     "execution_count": 11,
     "metadata": {},
     "output_type": "execute_result"
    }
   ],
   "source": [
    "not x < 0"
   ]
  },
  {
   "cell_type": "code",
   "execution_count": 12,
   "metadata": {},
   "outputs": [
    {
     "data": {
      "text/plain": [
       "bool"
      ]
     },
     "execution_count": 12,
     "metadata": {},
     "output_type": "execute_result"
    }
   ],
   "source": [
    "x = True\n",
    "type(x)"
   ]
  },
  {
   "cell_type": "code",
   "execution_count": 13,
   "metadata": {},
   "outputs": [
    {
     "data": {
      "text/plain": [
       "False"
      ]
     },
     "execution_count": 13,
     "metadata": {},
     "output_type": "execute_result"
    }
   ],
   "source": [
    "True and False"
   ]
  },
  {
   "cell_type": "code",
   "execution_count": 14,
   "metadata": {},
   "outputs": [
    {
     "data": {
      "text/plain": [
       "True"
      ]
     },
     "execution_count": 14,
     "metadata": {},
     "output_type": "execute_result"
    }
   ],
   "source": [
    "True or False"
   ]
  },
  {
   "cell_type": "code",
   "execution_count": 15,
   "metadata": {},
   "outputs": [
    {
     "data": {
      "text/plain": [
       "False"
      ]
     },
     "execution_count": 15,
     "metadata": {},
     "output_type": "execute_result"
    }
   ],
   "source": [
    "not True"
   ]
  },
  {
   "cell_type": "code",
   "execution_count": 16,
   "metadata": {},
   "outputs": [
    {
     "data": {
      "text/plain": [
       "'0b1000'"
      ]
     },
     "execution_count": 16,
     "metadata": {},
     "output_type": "execute_result"
    }
   ],
   "source": [
    "bin(0b00010 << 2)"
   ]
  },
  {
   "cell_type": "code",
   "execution_count": 17,
   "metadata": {},
   "outputs": [
    {
     "data": {
      "text/plain": [
       "'0b1'"
      ]
     },
     "execution_count": 17,
     "metadata": {},
     "output_type": "execute_result"
    }
   ],
   "source": [
    "bin(0b00010 >> 1)"
   ]
  },
  {
   "cell_type": "code",
   "execution_count": 18,
   "metadata": {},
   "outputs": [
    {
     "data": {
      "text/plain": [
       "'0b1011'"
      ]
     },
     "execution_count": 18,
     "metadata": {},
     "output_type": "execute_result"
    }
   ],
   "source": [
    "bin(0b1010 | 0b1001)"
   ]
  },
  {
   "cell_type": "code",
   "execution_count": 19,
   "metadata": {},
   "outputs": [
    {
     "data": {
      "text/plain": [
       "'0b1000'"
      ]
     },
     "execution_count": 19,
     "metadata": {},
     "output_type": "execute_result"
    }
   ],
   "source": [
    "bin(0b1010 & 0b1001)"
   ]
  },
  {
   "cell_type": "code",
   "execution_count": 20,
   "metadata": {},
   "outputs": [
    {
     "name": "stdout",
     "output_type": "stream",
     "text": [
      "x = 10\n",
      "bin(x) = '0b1010'\n",
      "~x = -11\n",
      "bin(~x) = '-0b1011'\n"
     ]
    }
   ],
   "source": [
    "x = 0b1010\n",
    "print(f\"{x = }\")\n",
    "print(f\"{bin(x) = }\")\n",
    "print(f\"{~x = }\")\n",
    "print(f\"{bin(~x) = }\")"
   ]
  },
  {
   "cell_type": "code",
   "execution_count": 21,
   "metadata": {},
   "outputs": [
    {
     "data": {
      "text/plain": [
       "(int, float, complex)"
      ]
     },
     "execution_count": 21,
     "metadata": {},
     "output_type": "execute_result"
    }
   ],
   "source": [
    "i = 2\n",
    "f = 1.2\n",
    "c = 1+2j\n",
    "\n",
    "type(i), type(f), type(c)"
   ]
  },
  {
   "cell_type": "code",
   "execution_count": 22,
   "metadata": {},
   "outputs": [
    {
     "name": "stdout",
     "output_type": "stream",
     "text": [
      "(3+2j) <class 'complex'>\n"
     ]
    }
   ],
   "source": [
    "c2 = i + c\n",
    "print(c2, type(c2))"
   ]
  },
  {
   "cell_type": "code",
   "execution_count": 23,
   "metadata": {},
   "outputs": [
    {
     "data": {
      "text/plain": [
       "(300.0, 300.0)"
      ]
     },
     "execution_count": 23,
     "metadata": {},
     "output_type": "execute_result"
    }
   ],
   "source": [
    "3e2, 3E2"
   ]
  },
  {
   "cell_type": "code",
   "execution_count": 24,
   "metadata": {},
   "outputs": [],
   "source": [
    "amount = 10_000_000.0\n",
    "\n",
    "addr = 0xCAFE_F00D\n",
    "\n",
    "flags = 0b_0011_1111_0100_1110\n",
    "\n",
    "flags = int('0b_1111_0000', 2)"
   ]
  },
  {
   "cell_type": "code",
   "execution_count": 25,
   "metadata": {},
   "outputs": [
    {
     "data": {
      "text/plain": [
       "int"
      ]
     },
     "execution_count": 25,
     "metadata": {},
     "output_type": "execute_result"
    }
   ],
   "source": [
    "type(2**63 + 1)"
   ]
  },
  {
   "cell_type": "code",
   "execution_count": 26,
   "metadata": {},
   "outputs": [
    {
     "data": {
      "text/plain": [
       "sys.int_info(bits_per_digit=30, sizeof_digit=4, default_max_str_digits=4300, str_digits_check_threshold=640)"
      ]
     },
     "execution_count": 26,
     "metadata": {},
     "output_type": "execute_result"
    }
   ],
   "source": [
    "import sys\n",
    "sys.int_info"
   ]
  },
  {
   "cell_type": "code",
   "execution_count": 27,
   "metadata": {},
   "outputs": [
    {
     "data": {
      "text/plain": [
       "sys.float_info(max=1.7976931348623157e+308, max_exp=1024, max_10_exp=308, min=2.2250738585072014e-308, min_exp=-1021, min_10_exp=-307, dig=15, mant_dig=53, epsilon=2.220446049250313e-16, radix=2, rounds=1)"
      ]
     },
     "execution_count": 27,
     "metadata": {},
     "output_type": "execute_result"
    }
   ],
   "source": [
    "import sys\n",
    "sys.float_info"
   ]
  },
  {
   "cell_type": "code",
   "execution_count": 28,
   "metadata": {},
   "outputs": [
    {
     "name": "stdout",
     "output_type": "stream",
     "text": [
      "6.2 <class 'float'>\n",
      "(0.10000000000000053+3j) <class 'complex'>\n",
      "(8.2-6j) <class 'complex'>\n"
     ]
    }
   ],
   "source": [
    "i = 2\n",
    "f = 4.2\n",
    "c = 4.1-3j\n",
    "\n",
    "s1 = i + f\n",
    "s2 = f - c\n",
    "s3 = i * c\n",
    "print(s1, type(s1))\n",
    "print(s2, type(s2))\n",
    "print(s3, type(s3))"
   ]
  },
  {
   "cell_type": "code",
   "execution_count": 29,
   "metadata": {},
   "outputs": [
    {
     "data": {
      "text/plain": [
       "1.5"
      ]
     },
     "execution_count": 29,
     "metadata": {},
     "output_type": "execute_result"
    }
   ],
   "source": [
    "3 / 2"
   ]
  },
  {
   "cell_type": "code",
   "execution_count": 30,
   "metadata": {},
   "outputs": [
    {
     "name": "stdout",
     "output_type": "stream",
     "text": [
      "Couldn't find program: 'python2'\n"
     ]
    }
   ],
   "source": [
    "%%python2\n",
    "print(3 / 2)"
   ]
  },
  {
   "cell_type": "code",
   "execution_count": 31,
   "metadata": {},
   "outputs": [
    {
     "data": {
      "text/plain": [
       "(-2.0, 1)"
      ]
     },
     "execution_count": 31,
     "metadata": {},
     "output_type": "execute_result"
    }
   ],
   "source": [
    "-3.0 // 2, 3 // 2"
   ]
  },
  {
   "cell_type": "code",
   "execution_count": 32,
   "metadata": {},
   "outputs": [
    {
     "data": {
      "text/plain": [
       "(True, True)"
      ]
     },
     "execution_count": 32,
     "metadata": {},
     "output_type": "execute_result"
    }
   ],
   "source": [
    "x = 23\n",
    "x < 24, x >= 22"
   ]
  },
  {
   "cell_type": "code",
   "execution_count": 33,
   "metadata": {},
   "outputs": [
    {
     "data": {
      "text/plain": [
       "False"
      ]
     },
     "execution_count": 33,
     "metadata": {},
     "output_type": "execute_result"
    }
   ],
   "source": [
    "23 < x < 100"
   ]
  },
  {
   "cell_type": "code",
   "execution_count": 34,
   "metadata": {},
   "outputs": [
    {
     "data": {
      "text/plain": [
       "True"
      ]
     },
     "execution_count": 34,
     "metadata": {},
     "output_type": "execute_result"
    }
   ],
   "source": [
    "23 <= x < 100"
   ]
  },
  {
   "cell_type": "code",
   "execution_count": 35,
   "metadata": {},
   "outputs": [
    {
     "data": {
      "text/plain": [
       "2"
      ]
     },
     "execution_count": 35,
     "metadata": {},
     "output_type": "execute_result"
    }
   ],
   "source": [
    "5 % 3"
   ]
  },
  {
   "cell_type": "code",
   "execution_count": 36,
   "metadata": {},
   "outputs": [
    {
     "data": {
      "text/plain": [
       "8"
      ]
     },
     "execution_count": 36,
     "metadata": {},
     "output_type": "execute_result"
    }
   ],
   "source": [
    "2 ** 3"
   ]
  },
  {
   "cell_type": "code",
   "execution_count": 37,
   "metadata": {},
   "outputs": [
    {
     "data": {
      "text/plain": [
       "1.4142135623730951"
      ]
     },
     "execution_count": 37,
     "metadata": {},
     "output_type": "execute_result"
    }
   ],
   "source": [
    "2 ** 0.5"
   ]
  },
  {
   "cell_type": "code",
   "execution_count": 39,
   "metadata": {},
   "outputs": [
    {
     "data": {
      "text/plain": [
       "(2.23606797749979, 1.4142135623730951, 2)"
      ]
     },
     "execution_count": 39,
     "metadata": {},
     "output_type": "execute_result"
    }
   ],
   "source": [
    "abs(-2 - 1j), abs(1+1j), abs(-2)"
   ]
  },
  {
   "cell_type": "code",
   "execution_count": 40,
   "metadata": {},
   "outputs": [
    {
     "data": {
      "text/plain": [
       "(2, 2.35)"
      ]
     },
     "execution_count": 40,
     "metadata": {},
     "output_type": "execute_result"
    }
   ],
   "source": [
    "round(2.3456), round(2.3456, 2)"
   ]
  },
  {
   "cell_type": "code",
   "execution_count": 41,
   "metadata": {},
   "outputs": [
    {
     "data": {
      "text/plain": [
       "2.0"
      ]
     },
     "execution_count": 41,
     "metadata": {},
     "output_type": "execute_result"
    }
   ],
   "source": [
    "float(2)"
   ]
  },
  {
   "cell_type": "code",
   "execution_count": 42,
   "metadata": {},
   "outputs": [
    {
     "data": {
      "text/plain": [
       "(2, -2)"
      ]
     },
     "execution_count": 42,
     "metadata": {},
     "output_type": "execute_result"
    }
   ],
   "source": [
    "int(2.5), int(-2.5)"
   ]
  },
  {
   "cell_type": "code",
   "execution_count": 43,
   "metadata": {},
   "outputs": [
    {
     "data": {
      "text/plain": [
       "(2.772588722239781, 4.0, 7.38905609893065, 10.000000000000002)"
      ]
     },
     "execution_count": 43,
     "metadata": {},
     "output_type": "execute_result"
    }
   ],
   "source": [
    "import math\n",
    "math.log(16), math.log(16, 2), math.exp(2), \\\n",
    "math.exp(math.log(10))"
   ]
  },
  {
   "cell_type": "code",
   "execution_count": 44,
   "metadata": {},
   "outputs": [
    {
     "name": "stdout",
     "output_type": "stream",
     "text": [
      "3 False\n"
     ]
    }
   ],
   "source": [
    "x = 2\n",
    "old_id = id(x)\n",
    "x += 1\n",
    "print(x, id(x) == old_id)"
   ]
  },
  {
   "cell_type": "code",
   "execution_count": 45,
   "metadata": {},
   "outputs": [
    {
     "name": "stdout",
     "output_type": "stream",
     "text": [
      "False\n",
      "True\n"
     ]
    }
   ],
   "source": [
    "x=True\n",
    "y=False\n",
    "print(x is y)\n",
    "z = False\n",
    "print(z is y)"
   ]
  },
  {
   "cell_type": "code",
   "execution_count": 46,
   "metadata": {},
   "outputs": [
    {
     "data": {
      "text/plain": [
       "(True, True)"
      ]
     },
     "execution_count": 46,
     "metadata": {},
     "output_type": "execute_result"
    }
   ],
   "source": [
    "(2 == 2) is (3 == 3), (2 != 2) is (3 < 1)"
   ]
  },
  {
   "cell_type": "code",
   "execution_count": 49,
   "metadata": {},
   "outputs": [
    {
     "data": {
      "text/plain": [
       "True"
      ]
     },
     "execution_count": 49,
     "metadata": {},
     "output_type": "execute_result"
    }
   ],
   "source": [
    "l1 = [0, 1]\n",
    "old_id = id(11)\n",
    "l1.append(2)\n",
    "old_id == id(11)"
   ]
  },
  {
   "cell_type": "code",
   "execution_count": 50,
   "metadata": {},
   "outputs": [
    {
     "data": {
      "text/plain": [
       "True"
      ]
     },
     "execution_count": 50,
     "metadata": {},
     "output_type": "execute_result"
    }
   ],
   "source": [
    "5 not in [2,3,4]\n",
    "not 5 in [2,3,4]"
   ]
  },
  {
   "cell_type": "code",
   "execution_count": 51,
   "metadata": {},
   "outputs": [
    {
     "name": "stdout",
     "output_type": "stream",
     "text": [
      "1\n",
      "-1\n",
      "foo\n",
      "2\n",
      "bar\n"
     ]
    }
   ],
   "source": [
    "l = [1,-1,\"foo\",2,\"bar\"]\n",
    "for element in l:\n",
    "    print(element)"
   ]
  },
  {
   "cell_type": "code",
   "execution_count": 52,
   "metadata": {},
   "outputs": [
    {
     "name": "stdout",
     "output_type": "stream",
     "text": [
      "0 1\n",
      "1 -1\n",
      "2 foo\n",
      "3 2\n",
      "4 bar\n"
     ]
    }
   ],
   "source": [
    "for i, element in enumerate(l):\n",
    "    print(i, element)"
   ]
  },
  {
   "cell_type": "code",
   "execution_count": 53,
   "metadata": {},
   "outputs": [
    {
     "name": "stdout",
     "output_type": "stream",
     "text": [
      "[1, 2, 2, 3] 2\n"
     ]
    }
   ],
   "source": [
    "l = [1,2,2,3]\n",
    "print(l, l[1])"
   ]
  },
  {
   "cell_type": "code",
   "execution_count": 54,
   "metadata": {},
   "outputs": [
    {
     "ename": "IndexError",
     "evalue": "list index out of range",
     "output_type": "error",
     "traceback": [
      "\u001b[0;31m---------------------------------------------------------------------------\u001b[0m",
      "\u001b[0;31mIndexError\u001b[0m                                Traceback (most recent call last)",
      "Cell \u001b[0;32mIn[54], line 1\u001b[0m\n\u001b[0;32m----> 1\u001b[0m l[\u001b[39m4\u001b[39;49m]\n",
      "\u001b[0;31mIndexError\u001b[0m: list index out of range"
     ]
    }
   ],
   "source": [
    "l[4]"
   ]
  },
  {
   "cell_type": "code",
   "execution_count": 55,
   "metadata": {},
   "outputs": [
    {
     "data": {
      "text/plain": [
       "(3, 3)"
      ]
     },
     "execution_count": 55,
     "metadata": {},
     "output_type": "execute_result"
    }
   ],
   "source": [
    "l[-1], l[len(l)-1]"
   ]
  },
  {
   "cell_type": "code",
   "execution_count": 56,
   "metadata": {},
   "outputs": [
    {
     "ename": "IndexError",
     "evalue": "list index out of range",
     "output_type": "error",
     "traceback": [
      "\u001b[0;31m---------------------------------------------------------------------------\u001b[0m",
      "\u001b[0;31mIndexError\u001b[0m                                Traceback (most recent call last)",
      "Cell \u001b[0;32mIn[56], line 1\u001b[0m\n\u001b[0;32m----> 1\u001b[0m l[\u001b[39m-\u001b[39;49m\u001b[39m5\u001b[39;49m]\n",
      "\u001b[0;31mIndexError\u001b[0m: list index out of range"
     ]
    }
   ],
   "source": [
    "l[-5]"
   ]
  },
  {
   "cell_type": "code",
   "execution_count": 58,
   "metadata": {},
   "outputs": [
    {
     "data": {
      "text/plain": [
       "[1, 2, 3, 3]"
      ]
     },
     "execution_count": 58,
     "metadata": {},
     "output_type": "execute_result"
    }
   ],
   "source": [
    "l = [1,2,3]\n",
    "l.append(3)\n",
    "l"
   ]
  },
  {
   "cell_type": "code",
   "execution_count": 59,
   "metadata": {},
   "outputs": [
    {
     "name": "stdout",
     "output_type": "stream",
     "text": [
      "140492272757040 1\n",
      "140492272757072 2\n",
      "140492272757104 3\n",
      "140492272757104 3\n"
     ]
    }
   ],
   "source": [
    "for e in l:\n",
    "    print(id(e), e)"
   ]
  },
  {
   "cell_type": "code",
   "execution_count": 60,
   "metadata": {},
   "outputs": [
    {
     "data": {
      "text/plain": [
       "[1, 5, 2, 3]"
      ]
     },
     "execution_count": 60,
     "metadata": {},
     "output_type": "execute_result"
    }
   ],
   "source": [
    "l = [1,2,3]\n",
    "l.insert(1,5)\n",
    "l"
   ]
  },
  {
   "cell_type": "code",
   "execution_count": 61,
   "metadata": {},
   "outputs": [
    {
     "data": {
      "text/plain": [
       "(5, [1, 2, 3, 4, 5])"
      ]
     },
     "execution_count": 61,
     "metadata": {},
     "output_type": "execute_result"
    }
   ],
   "source": [
    "l = [1,2]\n",
    "l.extend([3,4,5])\n",
    "len(l), l"
   ]
  },
  {
   "cell_type": "code",
   "execution_count": 62,
   "metadata": {},
   "outputs": [],
   "source": [
    "l = list(range(100))"
   ]
  },
  {
   "cell_type": "code",
   "execution_count": 63,
   "metadata": {},
   "outputs": [
    {
     "name": "stdout",
     "output_type": "stream",
     "text": [
      "45.2 ns ± 7.13 ns per loop (mean ± std. dev. of 7 runs, 100 loops each)\n"
     ]
    }
   ],
   "source": [
    "%%timeit -n 100\n",
    "l.append(0)"
   ]
  },
  {
   "cell_type": "code",
   "execution_count": 64,
   "metadata": {},
   "outputs": [],
   "source": [
    "l = list(range(100))"
   ]
  },
  {
   "cell_type": "code",
   "execution_count": 66,
   "metadata": {},
   "outputs": [
    {
     "name": "stdout",
     "output_type": "stream",
     "text": [
      "364 ns ± 103 ns per loop (mean ± std. dev. of 7 runs, 100 loops each)\n"
     ]
    }
   ],
   "source": [
    "%%timeit -n 100\n",
    "l.insert(50, 0)"
   ]
  },
  {
   "cell_type": "code",
   "execution_count": 67,
   "metadata": {},
   "outputs": [
    {
     "data": {
      "text/plain": [
       "[1, 3, 5, 7, 9, 11, 13, 15, 17, 19, 21, 23, 25, 27, 29, 31, 33, 35, 37, 39]"
      ]
     },
     "execution_count": 67,
     "metadata": {},
     "output_type": "execute_result"
    }
   ],
   "source": [
    "l = []\n",
    "for i in range(20):\n",
    "    l.append(2*i + 1)\n",
    "l"
   ]
  },
  {
   "cell_type": "code",
   "execution_count": 68,
   "metadata": {},
   "outputs": [
    {
     "data": {
      "text/plain": [
       "[5, 7, 9]"
      ]
     },
     "execution_count": 68,
     "metadata": {},
     "output_type": "execute_result"
    }
   ],
   "source": [
    "l[2:5]"
   ]
  },
  {
   "cell_type": "code",
   "execution_count": 70,
   "metadata": {},
   "outputs": [
    {
     "data": {
      "text/plain": [
       "([1, 3, 5], [33, 35, 37, 39])"
      ]
     },
     "execution_count": 70,
     "metadata": {},
     "output_type": "execute_result"
    }
   ],
   "source": [
    "l[:3], l[-4:]"
   ]
  },
  {
   "cell_type": "code",
   "execution_count": 71,
   "metadata": {},
   "outputs": [
    {
     "name": "stdout",
     "output_type": "stream",
     "text": [
      "[1, 3, 5]\n",
      "[3, 5, 7]\n",
      "[5, 7, 9]\n",
      "[7, 9, 11]\n",
      "[9, 11, 13]\n",
      "[11, 13, 15]\n",
      "[13, 15, 17]\n",
      "[15, 17, 19]\n",
      "[17, 19, 21]\n",
      "[19, 21, 23]\n"
     ]
    }
   ],
   "source": [
    "for i in range(10):\n",
    "    print(l[i:i+3])"
   ]
  },
  {
   "cell_type": "code",
   "execution_count": 72,
   "metadata": {},
   "outputs": [
    {
     "data": {
      "text/plain": [
       "[5, 11, 17]"
      ]
     },
     "execution_count": 72,
     "metadata": {},
     "output_type": "execute_result"
    }
   ],
   "source": [
    "l[2:10:3]"
   ]
  },
  {
   "cell_type": "code",
   "execution_count": 73,
   "metadata": {},
   "outputs": [
    {
     "data": {
      "text/plain": [
       "[39, 37, 35, 33, 31, 29, 27, 25, 23, 21, 19, 17, 15, 13, 11, 9, 7, 5, 3, 1]"
      ]
     },
     "execution_count": 73,
     "metadata": {},
     "output_type": "execute_result"
    }
   ],
   "source": [
    "l[::-1]"
   ]
  },
  {
   "cell_type": "code",
   "execution_count": 74,
   "metadata": {},
   "outputs": [
    {
     "data": {
      "text/plain": [
       "False"
      ]
     },
     "execution_count": 74,
     "metadata": {},
     "output_type": "execute_result"
    }
   ],
   "source": [
    "l[2:3] is l"
   ]
  },
  {
   "cell_type": "code",
   "execution_count": 75,
   "metadata": {},
   "outputs": [
    {
     "name": "stdout",
     "output_type": "stream",
     "text": [
      "True\n",
      "True\n"
     ]
    },
    {
     "data": {
      "text/plain": [
       "[1, 2]"
      ]
     },
     "execution_count": 75,
     "metadata": {},
     "output_type": "execute_result"
    }
   ],
   "source": [
    "l = []\n",
    "old_id = id(l)\n",
    "\n",
    "for element in range(1, 3):\n",
    "    l.append(element)\n",
    "    print(id(l) == old_id)\n",
    "l\n",
    "                     "
   ]
  },
  {
   "cell_type": "code",
   "execution_count": 76,
   "metadata": {},
   "outputs": [
    {
     "name": "stdout",
     "output_type": "stream",
     "text": [
      "True\n"
     ]
    },
    {
     "data": {
      "text/plain": [
       "[1, 2, 42]"
      ]
     },
     "execution_count": 76,
     "metadata": {},
     "output_type": "execute_result"
    }
   ],
   "source": [
    "l = [1,2]\n",
    "l2 = l\n",
    "print(l is l2)\n",
    "\n",
    "l2.append(42)\n",
    "l"
   ]
  },
  {
   "cell_type": "code",
   "execution_count": 77,
   "metadata": {},
   "outputs": [
    {
     "data": {
      "text/plain": [
       "False"
      ]
     },
     "execution_count": 77,
     "metadata": {},
     "output_type": "execute_result"
    }
   ],
   "source": [
    "l.copy() is l"
   ]
  },
  {
   "cell_type": "code",
   "execution_count": 78,
   "metadata": {},
   "outputs": [
    {
     "data": {
      "text/plain": [
       "[1, -1, 'foo', 2, 'bar']"
      ]
     },
     "execution_count": 78,
     "metadata": {},
     "output_type": "execute_result"
    }
   ],
   "source": [
    "l = [1,-1,\"foo\",2,\"bar\"]\n",
    "l"
   ]
  },
  {
   "cell_type": "code",
   "execution_count": 79,
   "metadata": {},
   "outputs": [
    {
     "name": "stdout",
     "output_type": "stream",
     "text": [
      "-1\n",
      "2\n",
      "3\n",
      "11\n"
     ]
    },
    {
     "data": {
      "text/plain": [
       "[3, -1, 2, 11]"
      ]
     },
     "execution_count": 79,
     "metadata": {},
     "output_type": "execute_result"
    }
   ],
   "source": [
    "l = [3,-1,2,11]\n",
    "\n",
    "for e in sorted(l):\n",
    "    print(e)\n",
    "\n",
    "l"
   ]
  },
  {
   "cell_type": "code",
   "execution_count": 80,
   "metadata": {},
   "outputs": [
    {
     "data": {
      "text/plain": [
       "False"
      ]
     },
     "execution_count": 80,
     "metadata": {},
     "output_type": "execute_result"
    }
   ],
   "source": [
    "i is sorted(l)"
   ]
  },
  {
   "cell_type": "code",
   "execution_count": 81,
   "metadata": {},
   "outputs": [
    {
     "data": {
      "text/plain": [
       "[-1, 2, 3, 11]"
      ]
     },
     "execution_count": 81,
     "metadata": {},
     "output_type": "execute_result"
    }
   ],
   "source": [
    "l = [3,-1,2,11]\n",
    "l.sort()\n",
    "l"
   ]
  },
  {
   "cell_type": "code",
   "execution_count": 82,
   "metadata": {},
   "outputs": [
    {
     "name": "stdout",
     "output_type": "stream",
     "text": [
      "(l1 is l2) = False\n",
      "l1 = [3, -1, 2]\n",
      "l2 = [-1, 2, 3]\n"
     ]
    }
   ],
   "source": [
    "l1 = [3,-1,2]\n",
    "l2 = sorted(l1)\n",
    "print(f\"{(l1 is l2) = }\")\n",
    "print(f\"{l1 = }\")\n",
    "print(f\"{l2 = }\")"
   ]
  },
  {
   "cell_type": "code",
   "execution_count": 83,
   "metadata": {},
   "outputs": [
    {
     "name": "stdout",
     "output_type": "stream",
     "text": [
      "['apple', 5]\n",
      "['apple', 5]\n",
      "['apple', 5]\n",
      "['apple', 5]\n"
     ]
    }
   ],
   "source": [
    "shopping_list = [\n",
    "    [\"apple\", 5],\n",
    "    [\"apple\", 5],\n",
    "    [\"apple\", 5],\n",
    "    [\"apple\", 5],\n",
    "]\n",
    "\n",
    "for product in sorted(shopping_list, key=lambda x: -x[1]):\n",
    "    print(product)"
   ]
  },
  {
   "cell_type": "code",
   "execution_count": 84,
   "metadata": {},
   "outputs": [
    {
     "data": {
      "text/plain": [
       "[['apple', 5], ['apple', 5], ['apple', 5], ['apple', 5]]"
      ]
     },
     "execution_count": 84,
     "metadata": {},
     "output_type": "execute_result"
    }
   ],
   "source": [
    "sorted(shopping_list, key=lambda x: -x[1])"
   ]
  },
  {
   "cell_type": "code",
   "execution_count": 85,
   "metadata": {},
   "outputs": [
    {
     "name": "stdout",
     "output_type": "stream",
     "text": [
      "type(t) = <class 'tuple'>\n",
      "len(t) = 0\n",
      "t = ()\n"
     ]
    }
   ],
   "source": [
    "t = ()\n",
    "print(f\"{type(t) = }\")\n",
    "print(f\"{len(t) = }\")\n",
    "print(f\"{t = }\")"
   ]
  },
  {
   "cell_type": "code",
   "execution_count": 87,
   "metadata": {},
   "outputs": [
    {
     "name": "stdout",
     "output_type": "stream",
     "text": [
      "type(t) = <class 'tuple'>\n",
      "len(t) = 4\n",
      "t = (1, 2, 3, 'foo')\n"
     ]
    }
   ],
   "source": [
    "t = (1,2,3,\"foo\")\n",
    "print(f\"{type(t) = }\")\n",
    "print(f\"{len(t) = }\")\n",
    "print(f\"{t = }\")"
   ]
  },
  {
   "cell_type": "code",
   "execution_count": 88,
   "metadata": {},
   "outputs": [
    {
     "data": {
      "text/plain": [
       "(2, 'foo', (1, 2, 3))"
      ]
     },
     "execution_count": 88,
     "metadata": {},
     "output_type": "execute_result"
    }
   ],
   "source": [
    "t[1], t[-1], t[:3]"
   ]
  },
  {
   "cell_type": "code",
   "execution_count": 89,
   "metadata": {},
   "outputs": [
    {
     "data": {
      "text/plain": [
       "(tuple, 1)"
      ]
     },
     "execution_count": 89,
     "metadata": {},
     "output_type": "execute_result"
    }
   ],
   "source": [
    "t = (2,)\n",
    "type(t), len(t)"
   ]
  },
  {
   "cell_type": "code",
   "execution_count": 94,
   "metadata": {},
   "outputs": [],
   "source": [
    "t= ([1,2,3], \"foo\")"
   ]
  },
  {
   "cell_type": "code",
   "execution_count": 97,
   "metadata": {},
   "outputs": [
    {
     "name": "stdout",
     "output_type": "stream",
     "text": [
      "True\n"
     ]
    },
    {
     "data": {
      "text/plain": [
       "([1, 11, 3, 13], 'foo')"
      ]
     },
     "execution_count": 97,
     "metadata": {},
     "output_type": "execute_result"
    }
   ],
   "source": [
    "t = ([1, 2, 3], \"foo\")\n",
    "\n",
    "old_id = id(t[0])\n",
    "\n",
    "t[0][1] = 11\n",
    "t[0].append(13)\n",
    "\n",
    "print(id(t[0]) == old_id)\n",
    "t"
   ]
  },
  {
   "cell_type": "code",
   "execution_count": 98,
   "metadata": {},
   "outputs": [
    {
     "name": "stdout",
     "output_type": "stream",
     "text": [
      "80056\n",
      "80040\n"
     ]
    },
    {
     "data": {
      "text/plain": [
       "(56, 72)"
      ]
     },
     "execution_count": 98,
     "metadata": {},
     "output_type": "execute_result"
    }
   ],
   "source": [
    "import sys\n",
    "print(sys.getsizeof(list(range(10000))))\n",
    "print(sys.getsizeof(tuple(range(10000))))\n",
    "sys.getsizeof((2,3)), sys.getsizeof([2,3])"
   ]
  },
  {
   "cell_type": "code",
   "execution_count": 99,
   "metadata": {},
   "outputs": [
    {
     "data": {
      "text/plain": [
       "(28, 36)"
      ]
     },
     "execution_count": 99,
     "metadata": {},
     "output_type": "execute_result"
    }
   ],
   "source": [
    "sys.getsizeof(2), sys.getsizeof(2**70)"
   ]
  },
  {
   "cell_type": "code",
   "execution_count": 100,
   "metadata": {},
   "outputs": [
    {
     "name": "stdout",
     "output_type": "stream",
     "text": [
      "ab\\c ab\\c\n"
     ]
    },
    {
     "data": {
      "text/plain": [
       "True"
      ]
     },
     "execution_count": 100,
     "metadata": {},
     "output_type": "execute_result"
    }
   ],
   "source": [
    "single = 'ab\\c'\n",
    "double = \"ab\\c\"\n",
    "print(single, double)\n",
    "multiline = \"\"\"\n",
    "sdfajfklasj;\n",
    "sdfsdfs\n",
    "sdfsdf\n",
    "\"\"\"\n",
    "single == double"
   ]
  },
  {
   "cell_type": "code",
   "execution_count": 101,
   "metadata": {},
   "outputs": [
    {
     "name": "stdout",
     "output_type": "stream",
     "text": [
      "\n",
      "sdfajfklasj;\n",
      "sdfsdfs\n",
      "sdfsdf\n",
      "\n"
     ]
    }
   ],
   "source": [
    "print(multiline)"
   ]
  },
  {
   "cell_type": "code",
   "execution_count": 102,
   "metadata": {},
   "outputs": [
    {
     "data": {
      "text/plain": [
       "'acegik'"
      ]
     },
     "execution_count": 102,
     "metadata": {},
     "output_type": "execute_result"
    }
   ],
   "source": [
    "s = \"abcdefghijkl\"\n",
    "s[::2]"
   ]
  },
  {
   "cell_type": "code",
   "execution_count": 103,
   "metadata": {},
   "outputs": [
    {
     "data": {
      "text/plain": [
       "'⛵'"
      ]
     },
     "execution_count": 103,
     "metadata": {},
     "output_type": "execute_result"
    }
   ],
   "source": [
    "ship = chr(0x26f5)\n",
    "ship"
   ]
  },
  {
   "cell_type": "code",
   "execution_count": 104,
   "metadata": {},
   "outputs": [
    {
     "data": {
      "text/plain": [
       "(9973, '0x26f5', '0o23365', '0b10011011110101')"
      ]
     },
     "execution_count": 104,
     "metadata": {},
     "output_type": "execute_result"
    }
   ],
   "source": [
    "ord(ship), hex(ord(ship)), oct(ord(ship)), bin(ord(ship))\n"
   ]
  },
  {
   "cell_type": "code",
   "execution_count": 105,
   "metadata": {},
   "outputs": [
    {
     "data": {
      "text/plain": [
       "(bytes, b'\\xc3\\xa1bc', 4, 3)"
      ]
     },
     "execution_count": 105,
     "metadata": {},
     "output_type": "execute_result"
    }
   ],
   "source": [
    "unicode_string = \"ábc\"\n",
    "utf8_string = unicode_string.encode(\"utf8\")\n",
    "type(utf8_string), utf8_string, len(utf8_string), len(unicode_string)"
   ]
  },
  {
   "cell_type": "code",
   "execution_count": 106,
   "metadata": {},
   "outputs": [
    {
     "data": {
      "text/plain": [
       "(str, bytes, bytes, bytes)"
      ]
     },
     "execution_count": 106,
     "metadata": {},
     "output_type": "execute_result"
    }
   ],
   "source": [
    "unicode_string = \"ábc\"\n",
    "utf8_string = unicode_string.encode(\"utf8\")\n",
    "utf16_string = unicode_string.encode(\"utf16\")\n",
    "latin2_string = unicode_string.encode(\"latin2\")\n",
    "\n",
    "type(unicode_string), type(utf8_string), type(utf16_string), type(latin2_string)"
   ]
  },
  {
   "cell_type": "code",
   "execution_count": 108,
   "metadata": {},
   "outputs": [
    {
     "data": {
      "text/plain": [
       "(3, 4, 8, 3)"
      ]
     },
     "execution_count": 108,
     "metadata": {},
     "output_type": "execute_result"
    }
   ],
   "source": [
    "len(unicode_string), len(utf8_string), len(utf16_string), len(latin2_string)"
   ]
  },
  {
   "cell_type": "code",
   "execution_count": 109,
   "metadata": {},
   "outputs": [
    {
     "ename": "UnicodeEncodeError",
     "evalue": "'latin-1' codec can't encode character '\\u0151' in position 0: ordinal not in range(256)",
     "output_type": "error",
     "traceback": [
      "\u001b[0;31m---------------------------------------------------------------------------\u001b[0m",
      "\u001b[0;31mUnicodeEncodeError\u001b[0m                        Traceback (most recent call last)",
      "Cell \u001b[0;32mIn[109], line 2\u001b[0m\n\u001b[1;32m      1\u001b[0m unicode_string \u001b[39m=\u001b[39m \u001b[39m\"\u001b[39m\u001b[39mőbc\u001b[39m\u001b[39m\"\u001b[39m\n\u001b[0;32m----> 2\u001b[0m latin1_string \u001b[39m=\u001b[39m unicode_string\u001b[39m.\u001b[39;49mencode(\u001b[39m\"\u001b[39;49m\u001b[39mlatin1\u001b[39;49m\u001b[39m\"\u001b[39;49m)\n",
      "\u001b[0;31mUnicodeEncodeError\u001b[0m: 'latin-1' codec can't encode character '\\u0151' in position 0: ordinal not in range(256)"
     ]
    }
   ],
   "source": [
    "unicode_string = \"őbc\"\n",
    "latin1_string = unicode_string.encode(\"latin1\")  # raises UnicodeEncodeError"
   ]
  },
  {
   "cell_type": "code",
   "execution_count": 110,
   "metadata": {},
   "outputs": [
    {
     "data": {
      "text/plain": [
       "('ABC', 'abc', 'Abc Def')"
      ]
     },
     "execution_count": 110,
     "metadata": {},
     "output_type": "execute_result"
    }
   ],
   "source": [
    "\"abC\".upper(), \"ABC\".lower(), \"abc def\".title()"
   ]
  },
  {
   "cell_type": "code",
   "execution_count": 111,
   "metadata": {},
   "outputs": [
    {
     "name": "stdout",
     "output_type": "stream",
     "text": [
      "<START>\tabc  \n",
      "<STOP>\n"
     ]
    }
   ],
   "source": [
    "s = \"\\tabc  \\n\"\n",
    "print(\"<START>\" + s + \"<STOP>\")"
   ]
  },
  {
   "cell_type": "code",
   "execution_count": 112,
   "metadata": {},
   "outputs": [
    {
     "data": {
      "text/plain": [
       "'abc'"
      ]
     },
     "execution_count": 112,
     "metadata": {},
     "output_type": "execute_result"
    }
   ],
   "source": [
    "s = \"\\tabc  \\n\"\n",
    "s.strip()"
   ]
  },
  {
   "cell_type": "code",
   "execution_count": 113,
   "metadata": {},
   "outputs": [
    {
     "data": {
      "text/plain": [
       "'\\tabc'"
      ]
     },
     "execution_count": 113,
     "metadata": {},
     "output_type": "execute_result"
    }
   ],
   "source": [
    "s.rstrip()"
   ]
  },
  {
   "cell_type": "code",
   "execution_count": 114,
   "metadata": {},
   "outputs": [
    {
     "data": {
      "text/plain": [
       "'abc  \\n'"
      ]
     },
     "execution_count": 114,
     "metadata": {},
     "output_type": "execute_result"
    }
   ],
   "source": [
    "s.lstrip()"
   ]
  },
  {
   "cell_type": "code",
   "execution_count": 115,
   "metadata": {},
   "outputs": [
    {
     "data": {
      "text/plain": [
       "'c'"
      ]
     },
     "execution_count": 115,
     "metadata": {},
     "output_type": "execute_result"
    }
   ],
   "source": [
    "\"abca\".strip(\"ba\")"
   ]
  },
  {
   "cell_type": "code",
   "execution_count": 116,
   "metadata": {},
   "outputs": [
    {
     "data": {
      "text/plain": [
       "'cd ab'"
      ]
     },
     "execution_count": 116,
     "metadata": {},
     "output_type": "execute_result"
    }
   ],
   "source": [
    "\" abcd abc\".strip().rstrip(\"c\").lstrip(\"ab\")"
   ]
  },
  {
   "cell_type": "code",
   "execution_count": 117,
   "metadata": {},
   "outputs": [
    {
     "data": {
      "text/plain": [
       "(True, False)"
      ]
     },
     "execution_count": 117,
     "metadata": {},
     "output_type": "execute_result"
    }
   ],
   "source": [
    "\"abc\".startswith(\"ab\"), \"abc\".endswith(\"cd\")"
   ]
  },
  {
   "cell_type": "code",
   "execution_count": 118,
   "metadata": {},
   "outputs": [
    {
     "name": "stdout",
     "output_type": "stream",
     "text": [
      "71.1 ns ± 0.955 ns per loop (mean ± std. dev. of 7 runs, 1,000 loops each)\n"
     ]
    }
   ],
   "source": [
    "%%timeit -n 1000\n",
    "\n",
    "\"abcsdfsfsdfadadasdasdasfasdasdfadsfaf\"[:2] == \"absdfsfsfsd\""
   ]
  },
  {
   "cell_type": "code",
   "execution_count": 119,
   "metadata": {},
   "outputs": [
    {
     "name": "stdout",
     "output_type": "stream",
     "text": [
      "67.1 ns ± 1.32 ns per loop (mean ± std. dev. of 7 runs, 1,000 loops each)\n"
     ]
    }
   ],
   "source": [
    "%%timeit -n 1000\n",
    "\n",
    "\"abcsdfsfsdfadadasdasdasfasdasdfadsfaf\".startswith(\"absdfsdfsf\")"
   ]
  },
  {
   "cell_type": "code",
   "execution_count": 120,
   "metadata": {},
   "outputs": [
    {
     "data": {
      "text/plain": [
       "(False, True)"
      ]
     },
     "execution_count": 120,
     "metadata": {},
     "output_type": "execute_result"
    }
   ],
   "source": [
    "\"abc\".istitle(), \"Abc\".istitle()"
   ]
  },
  {
   "cell_type": "code",
   "execution_count": 121,
   "metadata": {},
   "outputs": [
    {
     "data": {
      "text/plain": [
       "True"
      ]
     },
     "execution_count": 121,
     "metadata": {},
     "output_type": "execute_result"
    }
   ],
   "source": [
    "\"  \\t\\n\".isspace()"
   ]
  },
  {
   "cell_type": "code",
   "execution_count": 123,
   "metadata": {},
   "outputs": [
    {
     "data": {
      "text/plain": [
       "(True, False)"
      ]
     },
     "execution_count": 123,
     "metadata": {},
     "output_type": "execute_result"
    }
   ],
   "source": [
    "\"989\".isdigit(), \"1.5\".isdigit()"
   ]
  },
  {
   "cell_type": "code",
   "execution_count": 124,
   "metadata": {},
   "outputs": [
    {
     "data": {
      "text/plain": [
       "['the', 'quick', 'brown', 'fox', 'jumps', 'over', 'the', 'lazy', 'dog']"
      ]
     },
     "execution_count": 124,
     "metadata": {},
     "output_type": "execute_result"
    }
   ],
   "source": [
    "s = \"the quick brown fox jumps over the lazy dog\"\n",
    "words = s.split()\n",
    "words"
   ]
  },
  {
   "cell_type": "code",
   "execution_count": 125,
   "metadata": {},
   "outputs": [
    {
     "data": {
      "text/plain": [
       "['R', 'E', 'M', '']"
      ]
     },
     "execution_count": 125,
     "metadata": {},
     "output_type": "execute_result"
    }
   ],
   "source": [
    "s = \"R.E.M.\"\n",
    "s.split(\".\")"
   ]
  },
  {
   "cell_type": "code",
   "execution_count": 126,
   "metadata": {},
   "outputs": [
    {
     "data": {
      "text/plain": [
       "['name', 'namewith=sign']"
      ]
     },
     "execution_count": 126,
     "metadata": {},
     "output_type": "execute_result"
    }
   ],
   "source": [
    "config = \"name=namewith=sign\"\n",
    "config.split(\"=\", maxsplit=1)"
   ]
  },
  {
   "cell_type": "code",
   "execution_count": 127,
   "metadata": {},
   "outputs": [
    {
     "data": {
      "text/plain": [
       "('name', '=', 'namewith=sign')"
      ]
     },
     "execution_count": 127,
     "metadata": {},
     "output_type": "execute_result"
    }
   ],
   "source": [
    "\"name=namewith=sign\".partition(\"=\")"
   ]
  },
  {
   "cell_type": "code",
   "execution_count": 128,
   "metadata": {},
   "outputs": [
    {
     "data": {
      "text/plain": [
       "('batch_size', ':', ' 12')"
      ]
     },
     "execution_count": 128,
     "metadata": {},
     "output_type": "execute_result"
    }
   ],
   "source": [
    "\"batch_size: 12\".partition(\":\")"
   ]
  },
  {
   "cell_type": "code",
   "execution_count": 132,
   "metadata": {},
   "outputs": [
    {
     "data": {
      "text/plain": [
       "'the-quick-brown-fox-jumps-over-the-lazy-dog'"
      ]
     },
     "execution_count": 132,
     "metadata": {},
     "output_type": "execute_result"
    }
   ],
   "source": [
    "\"-\".join(words)"
   ]
  },
  {
   "cell_type": "code",
   "execution_count": 130,
   "metadata": {},
   "outputs": [
    {
     "data": {
      "text/plain": [
       "'the <W> quick <W> brown <W> fox <W> jumps <W> over <W> the <W> lazy <W> dog'"
      ]
     },
     "execution_count": 130,
     "metadata": {},
     "output_type": "execute_result"
    }
   ],
   "source": [
    "\" <W> \".join(words)"
   ]
  },
  {
   "cell_type": "code",
   "execution_count": 131,
   "metadata": {},
   "outputs": [
    {
     "name": "stdout",
     "output_type": "stream",
     "text": [
      "the\n",
      "quick\n",
      "brown\n",
      "fox\n",
      "jumps\n",
      "over\n",
      "the\n",
      "lazy\n",
      "dog\n"
     ]
    }
   ],
   "source": [
    "print(\"\\n\".join(words))"
   ]
  },
  {
   "cell_type": "code",
   "execution_count": 133,
   "metadata": {},
   "outputs": [
    {
     "name": "stdout",
     "output_type": "stream",
     "text": [
      "My name is John and I'm 25 years old. I turned 25 last December\n",
      "My name is John and I'm 25 years old.\n",
      "My name is John and I'm 25 years old. I turned 25 last December\n"
     ]
    }
   ],
   "source": [
    "name = \"John\"\n",
    "age = 25\n",
    "\n",
    "print(\"My name is {0} and I'm {1} years old. I turned {1} last December\".format(name, age))\n",
    "\n",
    "print(\"My name is {} and I'm {} years old.\".format(name, age))\n",
    "print(\"My name is {name} and I'm {age} years old. I turned {age} last December\".format(name=name, age=age))"
   ]
  },
  {
   "cell_type": "code",
   "execution_count": 134,
   "metadata": {},
   "outputs": [
    {
     "name": "stdout",
     "output_type": "stream",
     "text": [
      "My name is John and I'm 25 years old\n"
     ]
    }
   ],
   "source": [
    "print(\"My name is %s and I'm %d years old\" % (name, age))"
   ]
  },
  {
   "cell_type": "code",
   "execution_count": 135,
   "metadata": {},
   "outputs": [
    {
     "name": "stdout",
     "output_type": "stream",
     "text": [
      "My name is John and I'm 42 years old\n"
     ]
    }
   ],
   "source": [
    "import sys\n",
    "\n",
    "name = \"John\"\n",
    "age = 42\n",
    "\n",
    "if sys.version_info >= (3, 6):\n",
    "    print(f\"My name is {name} and I'm {age} years old\")"
   ]
  },
  {
   "cell_type": "code",
   "execution_count": 137,
   "metadata": {},
   "outputs": [
    {
     "data": {
      "text/plain": [
       "'Length of string: 3, contents abc'"
      ]
     },
     "execution_count": 137,
     "metadata": {},
     "output_type": "execute_result"
    }
   ],
   "source": [
    "s = \"abc\"\n",
    "f\"Length of string: {len(s)}, contents {s}\""
   ]
  },
  {
   "cell_type": "code",
   "execution_count": 138,
   "metadata": {},
   "outputs": [
    {
     "name": "stdout",
     "output_type": "stream",
     "text": [
      "s1 = 'abc'\n",
      "s2 = 'aBc'\n",
      "(s1 == s2) = False\n",
      "(s1.lower() == s2.lower()) = True\n"
     ]
    }
   ],
   "source": [
    "s1 = \"abc\"\n",
    "s2 = \"aBc\"\n",
    "\n",
    "print(f\"{s1 = }\")\n",
    "print(f\"{s2 = }\")\n",
    "print(f\"{(s1 == s2) = }\")\n",
    "print(f\"{(s1.lower() == s2.lower()) = }\")"
   ]
  },
  {
   "cell_type": "code",
   "execution_count": 139,
   "metadata": {},
   "outputs": [
    {
     "data": {
      "text/plain": [
       "{'apple': 12, 'plum': 2}"
      ]
     },
     "execution_count": 139,
     "metadata": {},
     "output_type": "execute_result"
    }
   ],
   "source": [
    "d={}\n",
    "d[\"apple\"] = 12\n",
    "d[\"plum\"] = 2\n",
    "d"
   ]
  },
  {
   "cell_type": "code",
   "execution_count": 140,
   "metadata": {},
   "outputs": [
    {
     "data": {
      "text/plain": [
       "{'apple': 12, 'plum': 2}"
      ]
     },
     "execution_count": 140,
     "metadata": {},
     "output_type": "execute_result"
    }
   ],
   "source": [
    "d = {\"apple\": 12, \"plum\": 2}\n",
    "d"
   ]
  },
  {
   "cell_type": "code",
   "execution_count": 141,
   "metadata": {},
   "outputs": [
    {
     "data": {
      "text/plain": [
       "{'apple': 12, 'plum': 2}"
      ]
     },
     "execution_count": 141,
     "metadata": {},
     "output_type": "execute_result"
    }
   ],
   "source": [
    "d = dict(apple=12, plum=2)\n",
    "d"
   ]
  },
  {
   "cell_type": "code",
   "execution_count": 142,
   "metadata": {},
   "outputs": [
    {
     "data": {
      "text/plain": [
       "{'plum': 2}"
      ]
     },
     "execution_count": 142,
     "metadata": {},
     "output_type": "execute_result"
    }
   ],
   "source": [
    "del d[\"apple\"]\n",
    "d"
   ]
  },
  {
   "cell_type": "code",
   "execution_count": 143,
   "metadata": {},
   "outputs": [
    {
     "name": "stdout",
     "output_type": "stream",
     "text": [
      "apple 12\n",
      "plum 2\n"
     ]
    }
   ],
   "source": [
    "d = {\"apple\": 12, \"plum\": 2}\n",
    "for key in d.keys():\n",
    "    print(key, d[key])"
   ]
  },
  {
   "cell_type": "code",
   "execution_count": 144,
   "metadata": {},
   "outputs": [
    {
     "name": "stdout",
     "output_type": "stream",
     "text": [
      "12\n",
      "2\n"
     ]
    }
   ],
   "source": [
    "for value in d.values():\n",
    "    print(value)"
   ]
  },
  {
   "cell_type": "code",
   "execution_count": 145,
   "metadata": {},
   "outputs": [
    {
     "name": "stdout",
     "output_type": "stream",
     "text": [
      "apple 12\n",
      "plum 2\n"
     ]
    }
   ],
   "source": [
    "for key, value in d.items():\n",
    "    print(key, value)"
   ]
  },
  {
   "cell_type": "code",
   "execution_count": 146,
   "metadata": {},
   "outputs": [
    {
     "name": "stdout",
     "output_type": "stream",
     "text": [
      "<class 'tuple'> ('apple', 12)\n",
      "<class 'tuple'> ('plum', 2)\n"
     ]
    }
   ],
   "source": [
    "for pair in d.items():\n",
    "    print(type(pair), pair)"
   ]
  },
  {
   "cell_type": "code",
   "execution_count": 147,
   "metadata": {},
   "outputs": [
    {
     "data": {
      "text/plain": [
       "{1: 'a', (3+2j): 'b', 'cde': 1.0}"
      ]
     },
     "execution_count": 147,
     "metadata": {},
     "output_type": "execute_result"
    }
   ],
   "source": [
    "d = {}\n",
    "d[1] = \"a\"\n",
    "d[3+2j] = \"b\"\n",
    "d[\"cde\"] = 1.0\n",
    "d"
   ]
  },
  {
   "cell_type": "code",
   "execution_count": 148,
   "metadata": {},
   "outputs": [
    {
     "data": {
      "text/plain": [
       "{1: 'a', (3+2j): 'b', 'cde': 1.0, ('apple', 1): -2}"
      ]
     },
     "execution_count": 148,
     "metadata": {},
     "output_type": "execute_result"
    }
   ],
   "source": [
    "d[(\"apple\", 1)] = -2\n",
    "d"
   ]
  },
  {
   "cell_type": "code",
   "execution_count": 149,
   "metadata": {},
   "outputs": [
    {
     "data": {
      "text/plain": [
       "{(2, (3, 4)): 1}"
      ]
     },
     "execution_count": 149,
     "metadata": {},
     "output_type": "execute_result"
    }
   ],
   "source": [
    "key1 = (2, (3, 4))\n",
    "key2 = (2, [], (3, 4))\n",
    "\n",
    "d = {}\n",
    "d[key1] = 1\n",
    "d"
   ]
  },
  {
   "cell_type": "code",
   "execution_count": 150,
   "metadata": {},
   "outputs": [
    {
     "name": "stdout",
     "output_type": "stream",
     "text": [
      "apple 12\n",
      "plum 3\n"
     ]
    }
   ],
   "source": [
    "d1 = {}\n",
    "d1['apple'] = 12\n",
    "d1['plum'] = 3\n",
    "for key, value in d1.items():\n",
    "    print(key, value)"
   ]
  },
  {
   "cell_type": "code",
   "execution_count": 151,
   "metadata": {},
   "outputs": [
    {
     "name": "stdout",
     "output_type": "stream",
     "text": [
      "plum 3\n",
      "apple 12\n"
     ]
    }
   ],
   "source": [
    "d2 = {}\n",
    "d2['plum'] = 3\n",
    "d2['apple'] = 12\n",
    "for key, value in d2.items():\n",
    "    print(key, value)"
   ]
  },
  {
   "cell_type": "code",
   "execution_count": 152,
   "metadata": {},
   "outputs": [
    {
     "data": {
      "text/plain": [
       "(True, False)"
      ]
     },
     "execution_count": 152,
     "metadata": {},
     "output_type": "execute_result"
    }
   ],
   "source": [
    "d1 == d2, d1 is d2"
   ]
  },
  {
   "cell_type": "code",
   "execution_count": 153,
   "metadata": {},
   "outputs": [
    {
     "data": {
      "text/plain": [
       "{2, 3}"
      ]
     },
     "execution_count": 153,
     "metadata": {},
     "output_type": "execute_result"
    }
   ],
   "source": [
    "s = set()\n",
    "s.add(2)\n",
    "s.add(3)\n",
    "s.add(2)\n",
    "s"
   ]
  },
  {
   "cell_type": "code",
   "execution_count": 154,
   "metadata": {},
   "outputs": [
    {
     "data": {
      "text/plain": [
       "(set, {2, 3})"
      ]
     },
     "execution_count": 154,
     "metadata": {},
     "output_type": "execute_result"
    }
   ],
   "source": [
    "s = {2,3,2}\n",
    "type(s), s"
   ]
  },
  {
   "cell_type": "code",
   "execution_count": 155,
   "metadata": {},
   "outputs": [
    {
     "data": {
      "text/plain": [
       "({2, 3, 10}, True)"
      ]
     },
     "execution_count": 155,
     "metadata": {},
     "output_type": "execute_result"
    }
   ],
   "source": [
    "s = {2,3}\n",
    "old_id = id(s)\n",
    "s.add(10)\n",
    "s, old_id == id(s)"
   ]
  },
  {
   "cell_type": "code",
   "execution_count": 156,
   "metadata": {},
   "outputs": [],
   "source": [
    "s.add(2)\n",
    "s.remove(2)\n",
    "s.discard(2)"
   ]
  },
  {
   "cell_type": "code",
   "execution_count": 158,
   "metadata": {},
   "outputs": [],
   "source": [
    "fs = frozenset([1,2])"
   ]
  },
  {
   "cell_type": "code",
   "execution_count": 159,
   "metadata": {},
   "outputs": [
    {
     "data": {
      "text/plain": [
       "{frozenset({1, 2}): 1}"
      ]
     },
     "execution_count": 159,
     "metadata": {},
     "output_type": "execute_result"
    }
   ],
   "source": [
    "fs = frozenset([1,2])\n",
    "s = {1,2}\n",
    "\n",
    "d = dict()\n",
    "d[fs] = 1\n",
    "d"
   ]
  },
  {
   "cell_type": "code",
   "execution_count": 160,
   "metadata": {},
   "outputs": [
    {
     "data": {
      "text/plain": [
       "{2, 5}"
      ]
     },
     "execution_count": 160,
     "metadata": {},
     "output_type": "execute_result"
    }
   ],
   "source": [
    "s1 = {1,2,3,4,5}\n",
    "s2 = {2,5,6,7}\n",
    "\n",
    "s1 & s2"
   ]
  },
  {
   "cell_type": "code",
   "execution_count": 161,
   "metadata": {},
   "outputs": [
    {
     "data": {
      "text/plain": [
       "{1, 2, 3, 4, 5, 6, 7}"
      ]
     },
     "execution_count": 161,
     "metadata": {},
     "output_type": "execute_result"
    }
   ],
   "source": [
    "s1 | s2"
   ]
  },
  {
   "cell_type": "code",
   "execution_count": 162,
   "metadata": {},
   "outputs": [
    {
     "data": {
      "text/plain": [
       "{1, 2, 3, 4, 5, 6, 7}"
      ]
     },
     "execution_count": 162,
     "metadata": {},
     "output_type": "execute_result"
    }
   ],
   "source": [
    "s1.union(s2)"
   ]
  },
  {
   "cell_type": "code",
   "execution_count": 163,
   "metadata": {},
   "outputs": [
    {
     "data": {
      "text/plain": [
       "({1, 3, 4}, {6, 7})"
      ]
     },
     "execution_count": 163,
     "metadata": {},
     "output_type": "execute_result"
    }
   ],
   "source": [
    "s1 - s2, s2 - s1"
   ]
  },
  {
   "cell_type": "code",
   "execution_count": 164,
   "metadata": {},
   "outputs": [
    {
     "data": {
      "text/plain": [
       "(set, False, False)"
      ]
     },
     "execution_count": 164,
     "metadata": {},
     "output_type": "execute_result"
    }
   ],
   "source": [
    "s3 = s1 & s2\n",
    "type(s3), s3 is s1, s3 is s2"
   ]
  },
  {
   "cell_type": "code",
   "execution_count": 165,
   "metadata": {},
   "outputs": [
    {
     "data": {
      "text/plain": [
       "{2, 5}"
      ]
     },
     "execution_count": 165,
     "metadata": {},
     "output_type": "execute_result"
    }
   ],
   "source": [
    "s3"
   ]
  },
  {
   "cell_type": "code",
   "execution_count": 166,
   "metadata": {},
   "outputs": [
    {
     "data": {
      "text/plain": [
       "True"
      ]
     },
     "execution_count": 166,
     "metadata": {},
     "output_type": "execute_result"
    }
   ],
   "source": [
    "s1 < (s2 | s1)"
   ]
  },
  {
   "cell_type": "code",
   "execution_count": 169,
   "metadata": {},
   "outputs": [
    {
     "data": {
      "text/plain": [
       "(True, False)"
      ]
     },
     "execution_count": 169,
     "metadata": {},
     "output_type": "execute_result"
    }
   ],
   "source": [
    "s1.issubset(s1 | s2), s2.issubset(s1)"
   ]
  },
  {
   "cell_type": "code",
   "execution_count": 171,
   "metadata": {},
   "outputs": [
    {
     "data": {
      "text/plain": [
       "{-1, 0, 1, 2, 3}"
      ]
     },
     "execution_count": 171,
     "metadata": {},
     "output_type": "execute_result"
    }
   ],
   "source": [
    "l = [1,2,3,-1,1,2,1,0]\n",
    "uniq = set(l)\n",
    "uniq"
   ]
  },
  {
   "cell_type": "code",
   "execution_count": 172,
   "metadata": {},
   "outputs": [],
   "source": [
    "import random\n",
    "\n",
    "letters = \"abcdef\"\n",
    "word_len = [1,2,3,4,5]\n",
    "N=10000\n",
    "samples=[]\n",
    "\n",
    "for i in range(N):\n",
    "    word = []\n",
    "    this_len = random.choice(word_len)\n",
    "    for j in range(this_len):\n",
    "        word.append(random.choice(letters))\n",
    "    samples.append(\"\".join(word))\n",
    "\n",
    "samples = list(set(samples))"
   ]
  },
  {
   "cell_type": "code",
   "execution_count": 173,
   "metadata": {},
   "outputs": [
    {
     "data": {
      "text/plain": [
       "3023"
      ]
     },
     "execution_count": 173,
     "metadata": {},
     "output_type": "execute_result"
    }
   ],
   "source": [
    "len(samples)"
   ]
  },
  {
   "cell_type": "code",
   "execution_count": 174,
   "metadata": {},
   "outputs": [
    {
     "data": {
      "text/plain": [
       "['f',\n",
       " 'ecdae',\n",
       " 'ddebc',\n",
       " 'caecc',\n",
       " 'dec',\n",
       " 'dceec',\n",
       " 'babf',\n",
       " 'ceaef',\n",
       " 'fdcc',\n",
       " 'ddafb',\n",
       " 'adbf',\n",
       " 'aeef',\n",
       " 'bdabc',\n",
       " 'effb',\n",
       " 'edcad',\n",
       " 'abdcd',\n",
       " 'abc',\n",
       " 'dfa',\n",
       " 'ccabf',\n",
       " 'baaec',\n",
       " 'eedca',\n",
       " 'ae',\n",
       " 'ccba',\n",
       " 'abff',\n",
       " 'abbba',\n",
       " 'ccede',\n",
       " 'ebbaa',\n",
       " 'cbafc',\n",
       " 'aafff',\n",
       " 'bfcea',\n",
       " 'bafa',\n",
       " 'dafb',\n",
       " 'dceab',\n",
       " 'adfce',\n",
       " 'adffa',\n",
       " 'bbbcf',\n",
       " 'fdbaf',\n",
       " 'cdeac',\n",
       " 'abdfd',\n",
       " 'cbfaf',\n",
       " 'beba',\n",
       " 'fbfb',\n",
       " 'cdaac',\n",
       " 'ebecd',\n",
       " 'ab',\n",
       " 'eacde',\n",
       " 'fdcdd',\n",
       " 'aacf',\n",
       " 'ccff',\n",
       " 'aeba',\n",
       " 'ace',\n",
       " 'dcdfa',\n",
       " 'fceba',\n",
       " 'adfbd',\n",
       " 'bccaa',\n",
       " 'abcfd',\n",
       " 'ccccc',\n",
       " 'bcadc',\n",
       " 'cdfc',\n",
       " 'aaffa',\n",
       " 'becbc',\n",
       " 'badab',\n",
       " 'aedba',\n",
       " 'ddafe',\n",
       " 'caecd',\n",
       " 'faba',\n",
       " 'faace',\n",
       " 'debed',\n",
       " 'cbca',\n",
       " 'acffc',\n",
       " 'ffbea',\n",
       " 'bbc',\n",
       " 'bfecd',\n",
       " 'eccaa',\n",
       " 'efec',\n",
       " 'ceeca',\n",
       " 'eafb',\n",
       " 'acbdf',\n",
       " 'fba',\n",
       " 'fdcbe',\n",
       " 'ffdaa',\n",
       " 'fa',\n",
       " 'faeee',\n",
       " 'aaaef',\n",
       " 'cddf',\n",
       " 'ecfab',\n",
       " 'ddffc',\n",
       " 'ecfce',\n",
       " 'eabfd',\n",
       " 'feadd',\n",
       " 'fdfaa',\n",
       " 'bbfcf',\n",
       " 'ecbe',\n",
       " 'ecebb',\n",
       " 'adfea',\n",
       " 'bacc',\n",
       " 'ccdcf',\n",
       " 'edcec',\n",
       " 'afeca',\n",
       " 'dacb',\n",
       " 'dfffa',\n",
       " 'eecad',\n",
       " 'beec',\n",
       " 'bfeaa',\n",
       " 'deeae',\n",
       " 'ecfb',\n",
       " 'bbd',\n",
       " 'eef',\n",
       " 'cfca',\n",
       " 'aadab',\n",
       " 'fdaf',\n",
       " 'dcdcf',\n",
       " 'ecce',\n",
       " 'ceafc',\n",
       " 'fceae',\n",
       " 'cecfd',\n",
       " 'cbec',\n",
       " 'fbfa',\n",
       " 'fdecf',\n",
       " 'eff',\n",
       " 'faee',\n",
       " 'cdccd',\n",
       " 'fdbbc',\n",
       " 'bedaf',\n",
       " 'acfbb',\n",
       " 'dfefe',\n",
       " 'ccedd',\n",
       " 'acefc',\n",
       " 'eaad',\n",
       " 'abeb',\n",
       " 'cebfe',\n",
       " 'ccbf',\n",
       " 'dbecf',\n",
       " 'dddbf',\n",
       " 'adcea',\n",
       " 'deecc',\n",
       " 'ddcda',\n",
       " 'bfdff',\n",
       " 'adcc',\n",
       " 'dafa',\n",
       " 'edfaf',\n",
       " 'fbeea',\n",
       " 'effc',\n",
       " 'cbeea',\n",
       " 'ccffe',\n",
       " 'bfff',\n",
       " 'aeebb',\n",
       " 'bcdbf',\n",
       " 'dcdf',\n",
       " 'afcdb',\n",
       " 'cdefb',\n",
       " 'cbded',\n",
       " 'aaaac',\n",
       " 'bfef',\n",
       " 'ceba',\n",
       " 'faedc',\n",
       " 'bccdf',\n",
       " 'feeef',\n",
       " 'bface',\n",
       " 'faabb',\n",
       " 'bdfb',\n",
       " 'bfcc',\n",
       " 'fff',\n",
       " 'ffdcd',\n",
       " 'eedf',\n",
       " 'dacd',\n",
       " 'cedcf',\n",
       " 'eeeaf',\n",
       " 'facaa',\n",
       " 'bbbb',\n",
       " 'cafba',\n",
       " 'afffc',\n",
       " 'adbfa',\n",
       " 'abae',\n",
       " 'ddccb',\n",
       " 'ebfa',\n",
       " 'abefd',\n",
       " 'ecfef',\n",
       " 'bdfdc',\n",
       " 'cccde',\n",
       " 'caacb',\n",
       " 'bafe',\n",
       " 'ecbca',\n",
       " 'fef',\n",
       " 'edac',\n",
       " 'afeff',\n",
       " 'ffbfd',\n",
       " 'eabdb',\n",
       " 'cbdd',\n",
       " 'ccfab',\n",
       " 'fadff',\n",
       " 'cdcea',\n",
       " 'fecec',\n",
       " 'efbec',\n",
       " 'dbfbf',\n",
       " 'fcec',\n",
       " 'cfdca',\n",
       " 'eafc',\n",
       " 'fbfde',\n",
       " 'dedaa',\n",
       " 'faedf',\n",
       " 'bdaee',\n",
       " 'dfecd',\n",
       " 'bfdb',\n",
       " 'ddced',\n",
       " 'bacdf',\n",
       " 'dada',\n",
       " 'bacb',\n",
       " 'ebabb',\n",
       " 'cfaff',\n",
       " 'abdea',\n",
       " 'ebcff',\n",
       " 'deeec',\n",
       " 'dcbe',\n",
       " 'debf',\n",
       " 'adacf',\n",
       " 'dbbbd',\n",
       " 'abdac',\n",
       " 'fdac',\n",
       " 'caec',\n",
       " 'cad',\n",
       " 'afffd',\n",
       " 'eebda',\n",
       " 'eadbd',\n",
       " 'bffcd',\n",
       " 'fbad',\n",
       " 'bdaef',\n",
       " 'fabe',\n",
       " 'ddec',\n",
       " 'fbdee',\n",
       " 'fcf',\n",
       " 'ffbaf',\n",
       " 'dfbca',\n",
       " 'ffcce',\n",
       " 'cfbac',\n",
       " 'ffaeb',\n",
       " 'cba',\n",
       " 'dcbc',\n",
       " 'febf',\n",
       " 'edfcd',\n",
       " 'bbde',\n",
       " 'ecf',\n",
       " 'caa',\n",
       " 'ecddb',\n",
       " 'aebb',\n",
       " 'ded',\n",
       " 'babbb',\n",
       " 'afacd',\n",
       " 'baffa',\n",
       " 'cdcee',\n",
       " 'aff',\n",
       " 'acea',\n",
       " 'fdab',\n",
       " 'abf',\n",
       " 'aaeac',\n",
       " 'bfab',\n",
       " 'bbdad',\n",
       " 'ddcce',\n",
       " 'ebbdb',\n",
       " 'ccbb',\n",
       " 'bfcee',\n",
       " 'cabb',\n",
       " 'eeea',\n",
       " 'de',\n",
       " 'cedda',\n",
       " 'cbb',\n",
       " 'baaa',\n",
       " 'fedda',\n",
       " 'ebbae',\n",
       " 'efea',\n",
       " 'bdeac',\n",
       " 'cffdb',\n",
       " 'ceec',\n",
       " 'bad',\n",
       " 'acdcf',\n",
       " 'ebdfd',\n",
       " 'dfed',\n",
       " 'eddb',\n",
       " 'fecca',\n",
       " 'bacbf',\n",
       " 'bbeb',\n",
       " 'ecee',\n",
       " 'afac',\n",
       " 'aaa',\n",
       " 'eeda',\n",
       " 'dedce',\n",
       " 'abec',\n",
       " 'decb',\n",
       " 'fcfcf',\n",
       " 'eacd',\n",
       " 'cfbc',\n",
       " 'adbcf',\n",
       " 'ffebf',\n",
       " 'ffce',\n",
       " 'fcdcf',\n",
       " 'cdbe',\n",
       " 'efadf',\n",
       " 'fbabf',\n",
       " 'cadae',\n",
       " 'dcfef',\n",
       " 'aabaa',\n",
       " 'bcafc',\n",
       " 'fdeac',\n",
       " 'afcca',\n",
       " 'ecca',\n",
       " 'fcff',\n",
       " 'bccb',\n",
       " 'cafab',\n",
       " 'adbea',\n",
       " 'dbdb',\n",
       " 'efaf',\n",
       " 'defdd',\n",
       " 'dccf',\n",
       " 'acbeb',\n",
       " 'daacc',\n",
       " 'bcecc',\n",
       " 'eecce',\n",
       " 'afaf',\n",
       " 'dcdae',\n",
       " 'ceabc',\n",
       " 'aeabc',\n",
       " 'cdeb',\n",
       " 'fdabc',\n",
       " 'debec',\n",
       " 'cdda',\n",
       " 'faef',\n",
       " 'ebeeb',\n",
       " 'baed',\n",
       " 'ebec',\n",
       " 'fbace',\n",
       " 'bcfb',\n",
       " 'fbc',\n",
       " 'ffff',\n",
       " 'aceef',\n",
       " 'ebdc',\n",
       " 'ddcef',\n",
       " 'abbbc',\n",
       " 'bced',\n",
       " 'dfdcd',\n",
       " 'faff',\n",
       " 'ccdcd',\n",
       " 'ccecb',\n",
       " 'cecc',\n",
       " 'ccef',\n",
       " 'e',\n",
       " 'feeea',\n",
       " 'abedd',\n",
       " 'adda',\n",
       " 'bddb',\n",
       " 'eadc',\n",
       " 'dccb',\n",
       " 'acead',\n",
       " 'ceacf',\n",
       " 'eacca',\n",
       " 'ddbe',\n",
       " 'fbdd',\n",
       " 'fcb',\n",
       " 'cccca',\n",
       " 'fcaf',\n",
       " 'eeae',\n",
       " 'dabce',\n",
       " 'aecda',\n",
       " 'facd',\n",
       " 'afcfc',\n",
       " 'ffadf',\n",
       " 'aefbc',\n",
       " 'cfaa',\n",
       " 'bbef',\n",
       " 'afed',\n",
       " 'accdd',\n",
       " 'cedba',\n",
       " 'acfaf',\n",
       " 'dafda',\n",
       " 'ceced',\n",
       " 'badec',\n",
       " 'eccb',\n",
       " 'abadd',\n",
       " 'ceddf',\n",
       " 'ea',\n",
       " 'ddbcc',\n",
       " 'fafbe',\n",
       " 'aadbf',\n",
       " 'eae',\n",
       " 'fcfc',\n",
       " 'bddbc',\n",
       " 'ccdda',\n",
       " 'abadc',\n",
       " 'bfa',\n",
       " 'edcd',\n",
       " 'bacf',\n",
       " 'ddcab',\n",
       " 'cbdab',\n",
       " 'faf',\n",
       " 'efa',\n",
       " 'cffc',\n",
       " 'ecafb',\n",
       " 'ceefb',\n",
       " 'beccc',\n",
       " 'fedc',\n",
       " 'eaecf',\n",
       " 'dddb',\n",
       " 'bce',\n",
       " 'daae',\n",
       " 'ccb',\n",
       " 'bcd',\n",
       " 'abafe',\n",
       " 'abab',\n",
       " 'dfceb',\n",
       " 'cfdd',\n",
       " 'cebcf',\n",
       " 'cbbdc',\n",
       " 'bafaa',\n",
       " 'aeff',\n",
       " 'defee',\n",
       " 'bacd',\n",
       " 'adecd',\n",
       " 'dbfb',\n",
       " 'cec',\n",
       " 'bcdff',\n",
       " 'dddda',\n",
       " 'eabb',\n",
       " 'fafd',\n",
       " 'caf',\n",
       " 'febd',\n",
       " 'cfab',\n",
       " 'deaf',\n",
       " 'fddfb',\n",
       " 'acfbe',\n",
       " 'afdf',\n",
       " 'aafcf',\n",
       " 'afdb',\n",
       " 'bcf',\n",
       " 'cffbe',\n",
       " 'eecbb',\n",
       " 'fbfdb',\n",
       " 'faeff',\n",
       " 'bcdc',\n",
       " 'fbca',\n",
       " 'befca',\n",
       " 'feaae',\n",
       " 'aadee',\n",
       " 'aefcc',\n",
       " 'fdbff',\n",
       " 'bac',\n",
       " 'dfcb',\n",
       " 'dcaed',\n",
       " 'dbfde',\n",
       " 'addc',\n",
       " 'bfcec',\n",
       " 'bfbbd',\n",
       " 'adcba',\n",
       " 'bfdbe',\n",
       " 'cffcf',\n",
       " 'dcdca',\n",
       " 'abdba',\n",
       " 'ecaf',\n",
       " 'bdecc',\n",
       " 'ccebf',\n",
       " 'cefeb',\n",
       " 'cceee',\n",
       " 'eebbc',\n",
       " 'bceab',\n",
       " 'baea',\n",
       " 'acfd',\n",
       " 'fcedb',\n",
       " 'faadf',\n",
       " 'fddeb',\n",
       " 'ecfe',\n",
       " 'ddcd',\n",
       " 'cccd',\n",
       " 'cdcbc',\n",
       " 'ccbfb',\n",
       " 'babbd',\n",
       " 'edbb',\n",
       " 'bcdf',\n",
       " 'edbab',\n",
       " 'aeeb',\n",
       " 'dfda',\n",
       " 'abdc',\n",
       " 'dedfc',\n",
       " 'fcef',\n",
       " 'adadf',\n",
       " 'fcaeb',\n",
       " 'abcae',\n",
       " 'bdefc',\n",
       " 'edbac',\n",
       " 'ebca',\n",
       " 'dbdbc',\n",
       " 'becf',\n",
       " 'addca',\n",
       " 'acabf',\n",
       " 'cbae',\n",
       " 'dafba',\n",
       " 'adbcd',\n",
       " 'caffb',\n",
       " 'cfee',\n",
       " 'caabe',\n",
       " 'abaab',\n",
       " 'fdcb',\n",
       " 'fddc',\n",
       " 'bbaeb',\n",
       " 'daec',\n",
       " 'efede',\n",
       " 'bfbe',\n",
       " 'dfec',\n",
       " 'dcceb',\n",
       " 'ebaa',\n",
       " 'cfcc',\n",
       " 'feaea',\n",
       " 'ebffb',\n",
       " 'bbdc',\n",
       " 'feccb',\n",
       " 'eebba',\n",
       " 'eeefb',\n",
       " 'eecbe',\n",
       " 'cafa',\n",
       " 'bdfaf',\n",
       " 'aeada',\n",
       " 'fafaa',\n",
       " 'befef',\n",
       " 'acebb',\n",
       " 'edead',\n",
       " 'bfda',\n",
       " 'dbac',\n",
       " 'eada',\n",
       " 'cfddd',\n",
       " 'edeae',\n",
       " 'fdbb',\n",
       " 'cfef',\n",
       " 'deec',\n",
       " 'feadc',\n",
       " 'bdb',\n",
       " 'dfaad',\n",
       " 'fcfa',\n",
       " 'bcddf',\n",
       " 'bbdf',\n",
       " 'ddd',\n",
       " 'cadfc',\n",
       " 'ffdbc',\n",
       " 'bdede',\n",
       " 'ebcfa',\n",
       " 'edeec',\n",
       " 'ceed',\n",
       " 'ebae',\n",
       " 'fecfc',\n",
       " 'efd',\n",
       " 'edfb',\n",
       " 'debba',\n",
       " 'daaa',\n",
       " 'ebeea',\n",
       " 'ffac',\n",
       " 'fabec',\n",
       " 'bbae',\n",
       " 'ceab',\n",
       " 'fbdaf',\n",
       " 'aabbc',\n",
       " 'dbce',\n",
       " 'eeeeb',\n",
       " 'ba',\n",
       " 'fbbbd',\n",
       " 'daeaf',\n",
       " 'dc',\n",
       " 'acece',\n",
       " 'ddfcc',\n",
       " 'bcaac',\n",
       " 'cfabc',\n",
       " 'dffbc',\n",
       " 'adeee',\n",
       " 'fccc',\n",
       " 'adcaf',\n",
       " 'dcbac',\n",
       " 'fddbb',\n",
       " 'edaf',\n",
       " 'eebb',\n",
       " 'dbbf',\n",
       " 'caaca',\n",
       " 'deabc',\n",
       " 'cbbb',\n",
       " 'eeabe',\n",
       " 'fbaf',\n",
       " 'cdbeb',\n",
       " 'adbff',\n",
       " 'eebbd',\n",
       " 'fed',\n",
       " 'feacc',\n",
       " 'baabe',\n",
       " 'bacbb',\n",
       " 'eeffc',\n",
       " 'befaf',\n",
       " 'bdd',\n",
       " 'efebd',\n",
       " 'fffbf',\n",
       " 'dcafd',\n",
       " 'daad',\n",
       " 'dffbf',\n",
       " 'dcbec',\n",
       " 'acaa',\n",
       " 'bfeea',\n",
       " 'dbcad',\n",
       " 'efcdf',\n",
       " 'edcce',\n",
       " 'eeabd',\n",
       " 'cefff',\n",
       " 'aabac',\n",
       " 'eacf',\n",
       " 'ffbff',\n",
       " 'dbfec',\n",
       " 'ffdcb',\n",
       " 'cfac',\n",
       " 'abdcb',\n",
       " 'dcd',\n",
       " 'eeaff',\n",
       " 'afcec',\n",
       " 'affef',\n",
       " 'bdcbb',\n",
       " 'abaa',\n",
       " 'ebaca',\n",
       " 'cabac',\n",
       " 'cdbfd',\n",
       " 'cbfea',\n",
       " 'dadb',\n",
       " 'defa',\n",
       " 'cbdfa',\n",
       " 'cfba',\n",
       " 'ecef',\n",
       " 'edaaf',\n",
       " 'defb',\n",
       " 'eaac',\n",
       " 'edee',\n",
       " 'fcceb',\n",
       " 'daccb',\n",
       " 'aca',\n",
       " 'cbdff',\n",
       " 'cadb',\n",
       " 'abe',\n",
       " 'dbeff',\n",
       " 'fbece',\n",
       " 'dabdc',\n",
       " 'efbb',\n",
       " 'cea',\n",
       " 'bede',\n",
       " 'fbcab',\n",
       " 'fede',\n",
       " 'efeaa',\n",
       " 'bcdac',\n",
       " 'adcf',\n",
       " 'dea',\n",
       " 'bfac',\n",
       " 'efdc',\n",
       " 'bfead',\n",
       " 'cedec',\n",
       " 'fcaea',\n",
       " 'dcfb',\n",
       " 'dcbd',\n",
       " 'feec',\n",
       " 'ccdca',\n",
       " 'faefa',\n",
       " 'ebcb',\n",
       " 'fdcdb',\n",
       " 'ebbbe',\n",
       " 'ccccb',\n",
       " 'dfadf',\n",
       " 'feea',\n",
       " 'beedb',\n",
       " 'bfafb',\n",
       " 'ebe',\n",
       " 'cdbec',\n",
       " 'becc',\n",
       " 'ccefb',\n",
       " 'fcae',\n",
       " 'fcdb',\n",
       " 'eaceb',\n",
       " 'daffd',\n",
       " 'bdbde',\n",
       " 'baabb',\n",
       " 'cddb',\n",
       " 'fceaa',\n",
       " 'beeee',\n",
       " 'ddabc',\n",
       " 'ffaa',\n",
       " 'cff',\n",
       " 'bbcef',\n",
       " 'eee',\n",
       " 'eceb',\n",
       " 'bcae',\n",
       " 'cdbb',\n",
       " 'deeb',\n",
       " 'cbdf',\n",
       " 'dffae',\n",
       " 'baee',\n",
       " 'aaffe',\n",
       " 'ebbc',\n",
       " 'dad',\n",
       " 'afd',\n",
       " 'bccd',\n",
       " 'bdeaa',\n",
       " 'bfdac',\n",
       " 'cddd',\n",
       " 'bfcde',\n",
       " 'acae',\n",
       " 'aebbc',\n",
       " 'baaab',\n",
       " 'fadfe',\n",
       " 'eeeea',\n",
       " 'ecafa',\n",
       " 'fafef',\n",
       " 'dfbd',\n",
       " 'bdbfc',\n",
       " 'eefe',\n",
       " 'bfcbc',\n",
       " 'ccfbf',\n",
       " 'abfd',\n",
       " 'bbfa',\n",
       " 'cbdaf',\n",
       " 'afbdc',\n",
       " 'faafb',\n",
       " 'fdbbe',\n",
       " 'aeadd',\n",
       " 'fbcb',\n",
       " 'eeeb',\n",
       " 'eabaf',\n",
       " 'ecbdf',\n",
       " 'accae',\n",
       " 'daafc',\n",
       " 'baaaf',\n",
       " 'fdad',\n",
       " 'faffa',\n",
       " 'aadd',\n",
       " 'afdec',\n",
       " 'ffdf',\n",
       " 'cdeca',\n",
       " 'da',\n",
       " 'ee',\n",
       " 'cebb',\n",
       " 'bccee',\n",
       " 'ddaa',\n",
       " 'edfdc',\n",
       " 'baaca',\n",
       " 'adec',\n",
       " 'dfbeb',\n",
       " 'eacad',\n",
       " 'fefad',\n",
       " 'aafc',\n",
       " 'cecef',\n",
       " 'afdfd',\n",
       " 'eaffe',\n",
       " 'ddeeb',\n",
       " 'fbdad',\n",
       " 'cccbe',\n",
       " 'bffb',\n",
       " 'abbdc',\n",
       " 'ddcde',\n",
       " 'dfc',\n",
       " 'bdff',\n",
       " 'beaac',\n",
       " 'dffb',\n",
       " 'dbfc',\n",
       " 'cadee',\n",
       " 'ccebd',\n",
       " 'eddc',\n",
       " 'fbccc',\n",
       " 'dbbea',\n",
       " 'ccc',\n",
       " 'fadf',\n",
       " 'eeacf',\n",
       " 'febeb',\n",
       " 'ddffe',\n",
       " 'fad',\n",
       " 'bdba',\n",
       " 'ffaf',\n",
       " 'eeaaa',\n",
       " 'cbccc',\n",
       " 'cacb',\n",
       " 'fabcf',\n",
       " 'caae',\n",
       " 'dfcda',\n",
       " 'cbffc',\n",
       " 'cabce',\n",
       " 'fafeb',\n",
       " 'aadaa',\n",
       " 'bbbeb',\n",
       " 'ebab',\n",
       " 'efddf',\n",
       " 'faae',\n",
       " 'fddae',\n",
       " 'faebf',\n",
       " 'accef',\n",
       " 'adfde',\n",
       " 'ebefa',\n",
       " 'bbbe',\n",
       " 'fdeff',\n",
       " 'ecbfb',\n",
       " 'caaab',\n",
       " 'baece',\n",
       " 'ffae',\n",
       " 'deaa',\n",
       " 'deca',\n",
       " 'babdb',\n",
       " 'cdcba',\n",
       " 'dddbb',\n",
       " 'adab',\n",
       " 'ffcea',\n",
       " 'cedc',\n",
       " 'ccdce',\n",
       " 'ffacd',\n",
       " 'fdead',\n",
       " 'eece',\n",
       " 'dbdfb',\n",
       " 'effbb',\n",
       " 'acada',\n",
       " 'adba',\n",
       " 'fcdf',\n",
       " 'ffc',\n",
       " 'baec',\n",
       " 'ebbab',\n",
       " 'abce',\n",
       " 'deddd',\n",
       " 'ddcf',\n",
       " 'ccdd',\n",
       " 'babee',\n",
       " 'cacfd',\n",
       " 'bded',\n",
       " 'afbe',\n",
       " 'acca',\n",
       " 'b',\n",
       " 'ffecf',\n",
       " 'dcacb',\n",
       " 'cbef',\n",
       " 'dffd',\n",
       " 'ceecf',\n",
       " 'aeecc',\n",
       " 'dfeef',\n",
       " 'acaad',\n",
       " 'dabba',\n",
       " 'dddce',\n",
       " 'aedda',\n",
       " 'ec',\n",
       " 'fdaac',\n",
       " 'afe',\n",
       " 'dcda',\n",
       " 'acfa',\n",
       " 'ddbeb',\n",
       " 'efca',\n",
       " 'caee',\n",
       " 'aedff',\n",
       " 'cbfb',\n",
       " 'bef',\n",
       " 'ebefc',\n",
       " 'bfdaa',\n",
       " 'dcec',\n",
       " 'afc',\n",
       " 'beff',\n",
       " 'ffab',\n",
       " 'bda',\n",
       " 'eaafb',\n",
       " 'fadab',\n",
       " 'dcaab',\n",
       " 'afea',\n",
       " 'aaed',\n",
       " 'babe',\n",
       " 'acbd',\n",
       " 'cfce',\n",
       " 'cfc',\n",
       " 'addbb',\n",
       " 'deebc',\n",
       " 'bffce',\n",
       " 'addde',\n",
       " 'acfb',\n",
       " 'dadd',\n",
       " 'cdbfc',\n",
       " 'bbdae',\n",
       " 'feefe',\n",
       " 'bedbc',\n",
       " 'cfcef',\n",
       " 'ceff',\n",
       " 'fdfe',\n",
       " 'aadcc',\n",
       " 'fea',\n",
       " 'bfbf',\n",
       " 'bfbdf',\n",
       " 'adbbf',\n",
       " 'deadc',\n",
       " 'aefd',\n",
       " 'fafb',\n",
       " 'acccd',\n",
       " 'aed',\n",
       " 'cdd',\n",
       " 'dfdaa',\n",
       " 'bcfcd',\n",
       " 'eaeca',\n",
       " 'fdcac',\n",
       " 'cadca',\n",
       " 'bcda',\n",
       " 'daafb',\n",
       " 'fbfcc',\n",
       " 'dabf',\n",
       " 'edcb',\n",
       " 'aaae',\n",
       " 'adfc',\n",
       " 'ecbac',\n",
       " 'dabae',\n",
       " 'cbdcd',\n",
       " 'feba',\n",
       " 'abba',\n",
       " 'acf',\n",
       " 'eead',\n",
       " 'dab',\n",
       " 'bbb',\n",
       " 'dfbc',\n",
       " 'aacdb',\n",
       " 'dbeba',\n",
       " 'bcefc',\n",
       " 'adee',\n",
       " 'cfaaf',\n",
       " 'acbce',\n",
       " 'dddc',\n",
       " 'ffdb',\n",
       " 'ebcf',\n",
       " 'bbdeb',\n",
       " 'ffbd',\n",
       " 'ebdcf',\n",
       " 'acfea',\n",
       " 'bbadd',\n",
       " 'edcdd',\n",
       " 'ddbb',\n",
       " 'affe',\n",
       " 'afeed',\n",
       " 'cb',\n",
       " 'fcab',\n",
       " 'aab',\n",
       " 'bdc',\n",
       " 'bbadc',\n",
       " 'bbea',\n",
       " 'afecc',\n",
       " 'feed',\n",
       " 'bcaf',\n",
       " 'afedf',\n",
       " 'dbbcc',\n",
       " 'fefb',\n",
       " 'eddef',\n",
       " 'ccdf',\n",
       " 'ccebb',\n",
       " 'dcdeb',\n",
       " 'cdbd',\n",
       " 'accba',\n",
       " 'bccfa',\n",
       " 'beadb',\n",
       " 'afaae',\n",
       " 'eaffb',\n",
       " 'fcded',\n",
       " 'abb',\n",
       " 'cbea',\n",
       " 'dcfc',\n",
       " 'dfcca',\n",
       " 'bdcc',\n",
       " 'bfce',\n",
       " 'acceb',\n",
       " 'ecbb',\n",
       " 'affda',\n",
       " 'bacfb',\n",
       " 'eedeb',\n",
       " 'dafae',\n",
       " 'edcea',\n",
       " 'bdec',\n",
       " 'bfedf',\n",
       " 'eaeda',\n",
       " 'dfde',\n",
       " 'cdcf',\n",
       " 'cfb',\n",
       " 'feadb',\n",
       " 'cbcbc',\n",
       " 'd',\n",
       " 'fcedf',\n",
       " 'bfbaf',\n",
       " 'beade',\n",
       " 'acdaa',\n",
       " 'acecc',\n",
       " 'ceffe',\n",
       " 'feebb',\n",
       " 'cdfff',\n",
       " 'fdccd',\n",
       " 'bafd',\n",
       " 'fee',\n",
       " 'fdbba',\n",
       " 'bec',\n",
       " 'afdcd',\n",
       " 'aeafe',\n",
       " 'bfdaf',\n",
       " 'eeaab',\n",
       " 'daecb',\n",
       " 'ffcfb',\n",
       " 'cbcc',\n",
       " 'eebd',\n",
       " 'feee',\n",
       " 'edfd',\n",
       " 'cf',\n",
       " 'edaed',\n",
       " 'bbaab',\n",
       " 'dabe',\n",
       " 'fdace',\n",
       " ...]"
      ]
     },
     "execution_count": 174,
     "metadata": {},
     "output_type": "execute_result"
    }
   ],
   "source": [
    "samples"
   ]
  },
  {
   "cell_type": "code",
   "execution_count": null,
   "metadata": {},
   "outputs": [],
   "source": []
  }
 ],
 "metadata": {
  "kernelspec": {
   "display_name": "base",
   "language": "python",
   "name": "python3"
  },
  "language_info": {
   "codemirror_mode": {
    "name": "ipython",
    "version": 3
   },
   "file_extension": ".py",
   "mimetype": "text/x-python",
   "name": "python",
   "nbconvert_exporter": "python",
   "pygments_lexer": "ipython3",
   "version": "3.9.18"
  },
  "orig_nbformat": 4
 },
 "nbformat": 4,
 "nbformat_minor": 2
}
